{
  "nbformat": 4,
  "nbformat_minor": 0,
  "metadata": {
    "colab": {
      "name": "pset3.ipynb",
      "provenance": [],
      "authorship_tag": "ABX9TyPeileUtpoWBTj/NqEF6qRF",
      "include_colab_link": true
    },
    "kernelspec": {
      "name": "python3",
      "display_name": "Python 3"
    },
    "language_info": {
      "name": "python"
    }
  },
  "cells": [
    {
      "cell_type": "markdown",
      "metadata": {
        "id": "view-in-github",
        "colab_type": "text"
      },
      "source": [
        "<a href=\"https://colab.research.google.com/github/LeiyuanHuo/technical-documentation/blob/main/test_pset3.ipynb\" target=\"_parent\"><img src=\"https://colab.research.google.com/assets/colab-badge.svg\" alt=\"Open In Colab\"/></a>"
      ]
    },
    {
      "cell_type": "code",
      "execution_count": null,
      "metadata": {
        "id": "cGdU-m0pxtka"
      },
      "outputs": [],
      "source": [
        "import numpy as np\n",
        "import pandas as pd"
      ]
    },
    {
      "cell_type": "code",
      "source": [
        "from keras import models\n",
        "from keras import layers"
      ],
      "metadata": {
        "id": "MwQvcZZkx4KG"
      },
      "execution_count": null,
      "outputs": []
    },
    {
      "cell_type": "code",
      "source": [
        "from google.colab import drive\n",
        "drive.mount('/content/drive')\n",
        "data = pd.read_csv('/content/drive/MyDrive/pset3_data/cleaned_data.csv')\n",
        "factor = pd.read_csv('/content/drive/MyDrive/pset3_data/ff-factor.csv', names=['time', 'Mkt-RF', 'SMB', 'HML', 'RMW', 'CMA', 'RF'])"
      ],
      "metadata": {
        "colab": {
          "base_uri": "https://localhost:8080/"
        },
        "id": "JdQFlvtdyFR9",
        "outputId": "01c09312-ddec-4d07-bff6-bc7420de6b0f"
      },
      "execution_count": null,
      "outputs": [
        {
          "output_type": "stream",
          "name": "stdout",
          "text": [
            "Mounted at /content/drive\n"
          ]
        }
      ]
    },
    {
      "cell_type": "code",
      "source": [
        "print(data.head())\n",
        "print(factor.head())"
      ],
      "metadata": {
        "colab": {
          "base_uri": "https://localhost:8080/"
        },
        "id": "gA8l6-Q0yFOt",
        "outputId": "19e80a3f-450a-4057-a119-5edb1587188e"
      },
      "execution_count": null,
      "outputs": [
        {
          "output_type": "stream",
          "name": "stdout",
          "text": [
            "   index  stock_id  price    return  time_stamp\n",
            "0      1     10001   6.50  0.019608    19890131\n",
            "1      2     10001   6.75  0.038462    19890228\n",
            "2      3     10001   6.75  0.000000    19890331\n",
            "3      4     10001   7.25  0.074074    19890428\n",
            "4      5     10001   7.00 -0.034483    19890531\n",
            "     time  Mkt-RF   SMB   HML   RMW   CMA    RF\n",
            "0  198901    6.10 -2.22  0.53 -0.86  0.17  0.55\n",
            "1  198902   -2.25  2.66  0.88 -0.76  1.87  0.61\n",
            "2  198903    1.57  0.75  0.48 -0.03  0.75  0.67\n",
            "3  198904    4.33 -0.69 -1.47  0.78 -0.52  0.67\n",
            "4  198905    3.35  0.00 -0.83  0.44 -0.02  0.79\n"
          ]
        }
      ]
    },
    {
      "cell_type": "code",
      "source": [
        "factor1 = factor[['Mkt-RF', 'SMB', 'HML', 'RMW', 'CMA']].to_numpy()\n",
        "RF = factor['RF'].to_numpy()"
      ],
      "metadata": {
        "id": "nRQasM79yFLz"
      },
      "execution_count": null,
      "outputs": []
    },
    {
      "cell_type": "code",
      "source": [
        "from sklearn.preprocessing import StandardScaler\n",
        "scaler = StandardScaler()\n",
        "train_factor = factor1[0:241]\n",
        "train_factor = scaler.fit_transform(train_factor)\n",
        "test_factor = factor1[241:288]\n",
        "test_factor = scaler.transform(test_factor)"
      ],
      "metadata": {
        "id": "5dcy8POM8gR8"
      },
      "execution_count": null,
      "outputs": []
    },
    {
      "cell_type": "code",
      "source": [
        "print(np.mean(train_factor, axis=0))\n",
        "print(np.std(train_factor, axis=0))\n",
        "print(np.mean(test_factor, axis=0))\n",
        "print(np.std(test_factor, axis=0))"
      ],
      "metadata": {
        "colab": {
          "base_uri": "https://localhost:8080/"
        },
        "id": "kvLBK0HN4pCe",
        "outputId": "d4d6435f-bbe2-438b-bb5c-e9e1ddebdd51"
      },
      "execution_count": null,
      "outputs": [
        {
          "output_type": "stream",
          "name": "stdout",
          "text": [
            "[ 2.94831011e-17 -1.47415505e-17  0.00000000e+00  1.75055913e-17\n",
            " -2.21123258e-17]\n",
            "[1. 1. 1. 1. 1.]\n",
            "[ 0.2611987   0.07729301 -0.02470434 -0.11479372  0.0024776 ]\n",
            "[1.1304115  0.75318202 0.80100182 0.54771194 0.64936205]\n"
          ]
        }
      ]
    },
    {
      "cell_type": "code",
      "source": [
        "stocks = pd.unique(data['stock_id']).tolist()\n",
        "print(stocks[:10])"
      ],
      "metadata": {
        "colab": {
          "base_uri": "https://localhost:8080/"
        },
        "id": "q9g_u9xAyFIt",
        "outputId": "4055564b-9c3d-4286-95c4-f85dda605e75"
      },
      "execution_count": null,
      "outputs": [
        {
          "output_type": "stream",
          "name": "stdout",
          "text": [
            "[10001, 10002, 10025, 10026, 10032, 10065, 10104, 10107, 10138, 10145]\n"
          ]
        }
      ]
    },
    {
      "cell_type": "code",
      "source": [
        "stock = 10145\n",
        "temp = data[data['stock_id'] == stock]['return'].to_numpy()\n",
        "temp = temp * 100 - RF\n",
        "train_temp = temp[0:241]\n",
        "test_temp = temp[241:288]\n",
        "print(temp.shape, train_temp.shape)"
      ],
      "metadata": {
        "colab": {
          "base_uri": "https://localhost:8080/"
        },
        "id": "2r8SV4A5yFFZ",
        "outputId": "8639241d-15a5-4d36-c9a6-3ec68234de03"
      },
      "execution_count": null,
      "outputs": [
        {
          "output_type": "stream",
          "name": "stdout",
          "text": [
            "(288,) (241,)\n"
          ]
        }
      ]
    },
    {
      "cell_type": "code",
      "source": [
        "from keras import regularizers"
      ],
      "metadata": {
        "id": "s7msyiSNJJ-e"
      },
      "execution_count": null,
      "outputs": []
    },
    {
      "cell_type": "code",
      "source": [
        "# network = models.Sequential()\n",
        "# network.add(layers.Dense(units=30, activation='relu', \n",
        "#                          kernel_regularizer= regularizers.l2(.05), \n",
        "#                          input_shape=(train_factor.shape[1],)))\n",
        "# network.add(layers.Dense(units=10, kernel_regularizer= regularizers.l2(.05), \n",
        "#                          activation='relu'))\n",
        "# network.add(layers.Dropout(0.6))\n",
        "# network.add(layers.Dense(units=5, activation='elu'))\n",
        "# network.add(layers.Dropout(0.6))\n",
        "# network.add(layers.Dense(units=1))\n",
        "# network.compile(loss='mse', optimizer='adam', metrics=['mse'])"
      ],
      "metadata": {
        "id": "n8JH15g5yE_9"
      },
      "execution_count": null,
      "outputs": []
    },
    {
      "cell_type": "code",
      "source": [
        "network = models.Sequential()\n",
        "network.add(layers.Dense(units=20, activation='relu', \n",
        "                         kernel_regularizer= regularizers.l2(.05), \n",
        "                         input_shape=(train_factor.shape[1],)))\n",
        "network.add(layers.Dense(units=10, kernel_regularizer= regularizers.l2(.05), \n",
        "                         activation='relu'))\n",
        "network.add(layers.Dropout(0.6))\n",
        "network.add(layers.Dense(units=1))\n",
        "network.compile(loss='mse', optimizer='adam', metrics=['mse'])\n",
        "# 0.25 R2, not much overfitting"
      ],
      "metadata": {
        "id": "YIJmq5i_XWIF"
      },
      "execution_count": null,
      "outputs": []
    },
    {
      "cell_type": "code",
      "source": [
        "network = models.Sequential()\n",
        "network.add(layers.Dense(units=20, activation='relu', \n",
        "                         kernel_regularizer= regularizers.l2(.06), \n",
        "                         input_shape=(train_factor.shape[1],)))\n",
        "network.add(layers.Dense(units=5, kernel_regularizer= regularizers.l2(.06), \n",
        "                         activation='relu'))\n",
        "network.add(layers.Dropout(0.6))\n",
        "network.add(layers.Dense(units=1))\n",
        "network.compile(loss='mse', optimizer='adam', metrics=['mse'])\n",
        "# a bit overfitting, but R2 can be around 0.3, drops later in the epoch\n",
        "# increased regularization a bit, dropping is less severe\n",
        "# decreased second layer neuron units from 10 to 5, R2 did not worsen"
      ],
      "metadata": {
        "id": "761UJTpqZ-em"
      },
      "execution_count": null,
      "outputs": []
    },
    {
      "cell_type": "code",
      "source": [
        "network = models.Sequential()\n",
        "network.add(layers.Dense(units=10, activation='relu', \n",
        "                         kernel_regularizer= regularizers.l2(.06), \n",
        "                         input_shape=(train_factor.shape[1],)))\n",
        "network.add(layers.Dropout(0.6))\n",
        "network.add(layers.Dense(units=1))\n",
        "network.compile(loss='mse', optimizer='adam', metrics=['mse'])\n",
        "# underfitting, but test set perform quite well, try a different stock"
      ],
      "metadata": {
        "id": "cmcpdTPRcSYc"
      },
      "execution_count": null,
      "outputs": []
    },
    {
      "cell_type": "code",
      "source": [
        "history = network.fit(train_factor, train_temp, epochs=500, verbose=0, \n",
        "                      validation_data=(test_factor, test_temp))"
      ],
      "metadata": {
        "id": "0QU8OyJX5SqO"
      },
      "execution_count": null,
      "outputs": []
    },
    {
      "cell_type": "code",
      "source": [
        "predicted_target = network.predict(test_factor)\n",
        "predicted_target[0:5]"
      ],
      "metadata": {
        "colab": {
          "base_uri": "https://localhost:8080/"
        },
        "id": "0YDK5w135l6V",
        "outputId": "a51a8459-d09d-40c7-ce95-d73e5de5f860"
      },
      "execution_count": null,
      "outputs": [
        {
          "output_type": "execute_result",
          "data": {
            "text/plain": [
              "array([[-13.840307 ],\n",
              "       [  4.2752285],\n",
              "       [  4.660074 ],\n",
              "       [  3.4169762],\n",
              "       [ -0.6110294]], dtype=float32)"
            ]
          },
          "metadata": {},
          "execution_count": 131
        }
      ]
    },
    {
      "cell_type": "code",
      "source": [
        "# visualize loss during training history\n",
        "import matplotlib.pyplot as plt\n",
        "train_loss = history.history['loss']\n",
        "test_loss = history.history['val_loss']\n",
        "epoch_count = range(1, len(train_loss) + 1)\n",
        "plt.plot(epoch_count, train_loss, 'r--')\n",
        "plt.plot(epoch_count, test_loss, 'b-')\n",
        "plt.legend(['Training Loss', 'Test Loss'])\n",
        "plt.xlabel('Epoch')\n",
        "plt.ylabel('Loss')\n",
        "plt.show()"
      ],
      "metadata": {
        "colab": {
          "base_uri": "https://localhost:8080/",
          "height": 279
        },
        "id": "DCuDAfjz55cs",
        "outputId": "07ef4946-f43c-4e02-cf6f-59bbc5d73db5"
      },
      "execution_count": null,
      "outputs": [
        {
          "output_type": "display_data",
          "data": {
            "text/plain": [
              "<Figure size 432x288 with 1 Axes>"
            ],
            "image/png": "[encoded data removed]"
          },
          "metadata": {
            "needs_background": "light"
          }
        }
      ]
    },
    {
      "cell_type": "code",
      "source": [
        "train_yvar = np.var(train_temp)\n",
        "test_yvar = np.var(test_temp)\n",
        "train_R2 = 1 - history.history['mse'] / train_yvar\n",
        "test_R2 = 1 - history.history['val_mse'] / test_yvar\n",
        "plt.plot(epoch_count, train_R2, 'r--')\n",
        "plt.plot(epoch_count, test_R2, 'b-')\n",
        "plt.legend(['Training R2', 'Test R2'])\n",
        "plt.xlabel('Epoch')\n",
        "plt.ylabel('R2')\n",
        "plt.show()"
      ],
      "metadata": {
        "colab": {
          "base_uri": "https://localhost:8080/",
          "height": 279
        },
        "id": "v2kEYf326iKm",
        "outputId": "b531ab10-dae7-4f70-a274-cfa6a4b6e518"
      },
      "execution_count": null,
      "outputs": [
        {
          "output_type": "display_data",
          "data": {
            "text/plain": [
              "<Figure size 432x288 with 1 Axes>"
            ],
            "image/png": "[encoded data removed]"
          },
          "metadata": {
            "needs_background": "light"
          }
        }
      ]
    },
    {
      "cell_type": "code",
      "source": [
        "for stock in stocks:\n",
        "  temp = data[data['stock_id'] == stock]['return'].to_numpy()\n",
        "  temp = temp * 100 - RF\n",
        "  train_temp = temp[0:241]\n",
        "  test_temp = temp[241:288]\n",
        "\n",
        "  network = models.Sequential()\n",
        "  network.add(layers.Dense(units=10, activation='relu', \n",
        "                          kernel_regularizer= regularizers.l2(.06), \n",
        "                          input_shape=(train_factor.shape[1],)))\n",
        "  network.add(layers.Dropout(0.6))\n",
        "  network.add(layers.Dense(units=1))\n",
        "  network.compile(loss='mse', optimizer='adam', metrics=['mse'])\n",
        "\n",
        "  history = network.fit(train_factor, train_temp, epochs=500, verbose=0, \n",
        "                      validation_data=(test_factor, test_temp))\n",
        "  \n",
        "  train_yvar = np.var(train_temp)\n",
        "  test_yvar = np.var(test_temp)\n",
        "  train_R2 = 1 - history.history['mse'] / train_yvar\n",
        "  test_R2 = 1 - history.history['val_mse'] / test_yvar\n"
      ],
      "metadata": {
        "id": "PAlVTgIGZVbr"
      },
      "execution_count": null,
      "outputs": []
    }
  ]
}